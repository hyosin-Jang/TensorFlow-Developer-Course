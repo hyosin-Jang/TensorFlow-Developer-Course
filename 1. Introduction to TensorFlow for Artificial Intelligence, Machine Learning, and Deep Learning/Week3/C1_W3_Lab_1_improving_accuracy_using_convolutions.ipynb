{
  "nbformat": 4,
  "nbformat_minor": 0,
  "metadata": {
    "colab": {
      "name": "C1_W3_Lab_1_improving_accuracy_using_convolutions.ipynb",
      "provenance": [],
      "collapsed_sections": []
    },
    "kernelspec": {
      "name": "python3",
      "display_name": "Python 3"
    },
    "language_info": {
      "name": "python"
    },
    "accelerator": "GPU"
  },
  "cells": [
    {
      "cell_type": "markdown",
      "source": [
        "# Convolutional Neural Network\n",
        "- the ultimate concept is that they narrow down the content of the image to focus on specific parts and this will likely improve the model accuracy."
      ],
      "metadata": {
        "id": "ez7p7J6y99v3"
      }
    },
    {
      "cell_type": "code",
      "execution_count": 1,
      "metadata": {
        "colab": {
          "base_uri": "https://localhost:8080/"
        },
        "id": "iZvdmCv89wmg",
        "outputId": "67b8e76c-d963-40af-e6a2-be15a5e2c3cc"
      },
      "outputs": [
        {
          "output_type": "stream",
          "name": "stdout",
          "text": [
            "Downloading data from https://storage.googleapis.com/tensorflow/tf-keras-datasets/train-labels-idx1-ubyte.gz\n",
            "32768/29515 [=================================] - 0s 2us/step\n",
            "40960/29515 [=========================================] - 0s 2us/step\n",
            "Downloading data from https://storage.googleapis.com/tensorflow/tf-keras-datasets/train-images-idx3-ubyte.gz\n",
            "26427392/26421880 [==============================] - 0s 0us/step\n",
            "26435584/26421880 [==============================] - 0s 0us/step\n",
            "Downloading data from https://storage.googleapis.com/tensorflow/tf-keras-datasets/t10k-labels-idx1-ubyte.gz\n",
            "16384/5148 [===============================================================================================] - 0s 0us/step\n",
            "Downloading data from https://storage.googleapis.com/tensorflow/tf-keras-datasets/t10k-images-idx3-ubyte.gz\n",
            "4423680/4422102 [==============================] - 0s 0us/step\n",
            "4431872/4422102 [==============================] - 0s 0us/step\n"
          ]
        }
      ],
      "source": [
        "import tensorflow as tf\n",
        "\n",
        "# Load the Fashion MNIST dataset\n",
        "fmnist = tf.keras.datasets.fashion_mnist\n",
        "(training_images, training_labels), (test_images, test_labels) = fmnist.load_data()\n",
        "\n",
        "# Normalize the pixel values\n",
        "training_images = training_images / 255.0\n",
        "test_images = test_images / 255.0"
      ]
    },
    {
      "cell_type": "code",
      "source": [
        "model = tf.keras.models.Sequential([\n",
        "                                    \n",
        " # Add convolutions and max pooling                                  \n",
        " tf.keras.layers.Conv2D(32, (3,3), activation='relu', input_shape=(28, 28, 1)),\n",
        " tf.keras.layers.MaxPooling2D(2,2),\n",
        " tf.keras.layers.Conv2D(32, (3,3), activation='relu'),\n",
        " tf.keras.layers.MaxPooling2D(2,2),\n",
        " tf.keras.layers.Flatten(),\n",
        " tf.keras.layers.Dense(128, activation='relu'),\n",
        " tf.keras.layers.Dense(10, activation='softmax')\n",
        "])\n",
        "\n",
        "model.summary()\n",
        "\n",
        "# Use same settings\n",
        "model.compile(optimizer='adam', loss='sparse_categorical_crossentropy', metrics=['accuracy'])\n",
        "\n",
        "# Train the model\n",
        "print(f'\\nMODEL TRAINING:')\n",
        "model.fit(training_images, training_labels, epochs=5)\n",
        "\n",
        "# Evaluate on the test set\n",
        "print(f'\\nMODEL EVALUATION:')\n",
        "test_loss = model.evaluate(test_images, test_labels)"
      ],
      "metadata": {
        "colab": {
          "base_uri": "https://localhost:8080/"
        },
        "id": "TWwfJBGf-dQb",
        "outputId": "0b7dc157-6c80-4e9d-dbb4-2f5535e6086a"
      },
      "execution_count": 2,
      "outputs": [
        {
          "output_type": "stream",
          "name": "stdout",
          "text": [
            "Model: \"sequential\"\n",
            "_________________________________________________________________\n",
            " Layer (type)                Output Shape              Param #   \n",
            "=================================================================\n",
            " conv2d (Conv2D)             (None, 26, 26, 32)        320       \n",
            "                                                                 \n",
            " max_pooling2d (MaxPooling2D  (None, 13, 13, 32)       0         \n",
            " )                                                               \n",
            "                                                                 \n",
            " conv2d_1 (Conv2D)           (None, 11, 11, 32)        9248      \n",
            "                                                                 \n",
            " max_pooling2d_1 (MaxPooling  (None, 5, 5, 32)         0         \n",
            " 2D)                                                             \n",
            "                                                                 \n",
            " flatten (Flatten)           (None, 800)               0         \n",
            "                                                                 \n",
            " dense (Dense)               (None, 128)               102528    \n",
            "                                                                 \n",
            " dense_1 (Dense)             (None, 10)                1290      \n",
            "                                                                 \n",
            "=================================================================\n",
            "Total params: 113,386\n",
            "Trainable params: 113,386\n",
            "Non-trainable params: 0\n",
            "_________________________________________________________________\n",
            "\n",
            "MODEL TRAINING:\n",
            "Epoch 1/5\n",
            "1875/1875 [==============================] - 23s 5ms/step - loss: 0.4691 - accuracy: 0.8280\n",
            "Epoch 2/5\n",
            "1875/1875 [==============================] - 10s 5ms/step - loss: 0.3176 - accuracy: 0.8838\n",
            "Epoch 3/5\n",
            "1875/1875 [==============================] - 10s 5ms/step - loss: 0.2743 - accuracy: 0.8985\n",
            "Epoch 4/5\n",
            "1875/1875 [==============================] - 10s 5ms/step - loss: 0.2436 - accuracy: 0.9107\n",
            "Epoch 5/5\n",
            "1875/1875 [==============================] - 10s 5ms/step - loss: 0.2216 - accuracy: 0.9166\n",
            "\n",
            "MODEL EVALUATION:\n",
            "313/313 [==============================] - 2s 4ms/step - loss: 0.2694 - accuracy: 0.9032\n"
          ]
        }
      ]
    },
    {
      "cell_type": "markdown",
      "source": [
        "Instead of the input layer at the top, you added a Conv2D layer. The parameters are:\n",
        "1. The number of convolutions you want to generate. (2의 제곱승 넣는 것이 좋다.)\n",
        "2. The size of Convolution.\n",
        "3. The activation function to use.\n",
        "4. In the first layer, the shape of the input data. \n",
        "\n",
        "You'll follow the convolution with a MaxPool2D layer which is designed to compress the image, while maintaining the content of the features that were highlighted by the convlution.\n",
        "Conv레이어 다음, 컨볼루션 레이어에서 추출한 특징은 유지하면서, 이미지를 compress하는 MaxPool2D를 사용함\n",
        "- MaxPooling 사이즈가 (2, 2)라는 건 이미지 크기를 1/4 하는 것과 같음\n",
        "- 2x2 영역에서 가장 큰 픽셀의 값을 고름\n",
        "- Thus, it turns 4 pixels into 1."
      ],
      "metadata": {
        "id": "qtt0I5EU_aRI"
      }
    },
    {
      "cell_type": "markdown",
      "source": [
        "# About overfitting\n",
        "epoch을 약 20이상 돌리면 결과는 좋아보이나, 오버피팅이 발생해서 validation results가 떨어진다.\n",
        "- In a nutshell, overfitting occurs when the network learns the data from the training set really well\n",
        "- 훈련용 데이터에 너무 specialised 돼서, unseen data에 대해서는 결과가 안좋게 나옴"
      ],
      "metadata": {
        "id": "p1THJWSwAb9B"
      }
    },
    {
      "cell_type": "markdown",
      "source": [
        "# Visualizing the Convolutions and Pooling"
      ],
      "metadata": {
        "id": "OtPzXSjkA7Zx"
      }
    },
    {
      "cell_type": "code",
      "source": [
        "print(test_labels[:100])"
      ],
      "metadata": {
        "colab": {
          "base_uri": "https://localhost:8080/"
        },
        "id": "Aq60PgqyBFQG",
        "outputId": "63caa67e-f576-4a67-c177-776aa78046c9"
      },
      "execution_count": 3,
      "outputs": [
        {
          "output_type": "stream",
          "name": "stdout",
          "text": [
            "[9 2 1 1 6 1 4 6 5 7 4 5 7 3 4 1 2 4 8 0 2 5 7 9 1 4 6 0 9 3 8 8 3 3 8 0 7\n",
            " 5 7 9 6 1 3 7 6 7 2 1 2 2 4 4 5 8 2 2 8 4 8 0 7 7 8 5 1 1 2 3 9 8 7 0 2 6\n",
            " 2 3 1 2 8 4 1 8 5 9 5 0 3 2 0 6 5 3 6 7 1 8 0 1 4 2]\n"
          ]
        }
      ]
    },
    {
      "cell_type": "code",
      "source": [
        "import matplotlib.pyplot as plt\n",
        "from tensorflow.keras import models\n",
        "\n",
        "f, axarr = plt.subplots(3, 4)\n",
        "\n",
        "FIRST_IMAGE = 0\n",
        "SECOND_IMAGE = 23\n",
        "THIRD_IMAGE = 28\n",
        "CONVOLUTION_NUMBER = 1\n",
        "\n",
        "layer_outputs = [layer.output for layer in model.layers]\n",
        "activation_model = tf.keras.models.Model(inputs= model.input, outputs = layer_outputs)\n",
        "\n",
        "for x in range(0, 4):\n",
        "  f1 = activation_model.predict(test_images[FIRST_IMAGE].reshape(1, 28, 28, 1))[x]\n",
        "  axarr[0,x].imshow(f1[0, : , :, CONVOLUTION_NUMBER], cmap='inferno')\n",
        "  axarr[0,x].grid(False)\n",
        "  \n",
        "  f2 = activation_model.predict(test_images[SECOND_IMAGE].reshape(1, 28, 28, 1))[x]\n",
        "  axarr[1,x].imshow(f2[0, : , :, CONVOLUTION_NUMBER], cmap='inferno')\n",
        "  axarr[1,x].grid(False)\n",
        "  \n",
        "  f3 = activation_model.predict(test_images[THIRD_IMAGE].reshape(1, 28, 28, 1))[x]\n",
        "  axarr[2,x].imshow(f3[0, : , :, CONVOLUTION_NUMBER], cmap='inferno')\n",
        "  axarr[2,x].grid(False)"
      ],
      "metadata": {
        "colab": {
          "base_uri": "https://localhost:8080/",
          "height": 268
        },
        "id": "jSgW4r3JBHlN",
        "outputId": "d9e821eb-fd17-4b70-972e-24c547a9fef1"
      },
      "execution_count": 5,
      "outputs": [
        {
          "output_type": "display_data",
          "data": {
            "image/png": "[encoded data removed]",
            "text/plain": [
              "<Figure size 432x288 with 12 Axes>"
            ]
          },
          "metadata": {
            "needs_background": "light"
          }
        }
      ]
    },
    {
      "cell_type": "markdown",
      "source": [
        "EXERCISES\n",
        "Try editing the convolutions. Change the 32s to either 16 or 64. What impact will this have on accuracy and/or training time.\n",
        "\n",
        "Remove the final Convolution. What impact will this have on accuracy or training time?\n",
        "\n",
        "How about adding more Convolutions? What impact do you think this will have? Experiment with it.\n",
        "\n",
        "Remove all Convolutions but the first. What impact do you think this will have? Experiment with it.\n",
        "\n",
        "In the previous lesson you implemented a callback to check on the loss function and to cancel training once it hit a certain amount. See if you can implement that here."
      ],
      "metadata": {
        "id": "OUXQITV2BwkU"
      }
    }
  ]
}