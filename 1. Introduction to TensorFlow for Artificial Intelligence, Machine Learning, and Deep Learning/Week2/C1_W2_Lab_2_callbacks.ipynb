{
  "nbformat": 4,
  "nbformat_minor": 0,
  "metadata": {
    "colab": {
      "name": "C1_W2_Lab_2_callbacks.ipynb",
      "provenance": [],
      "collapsed_sections": []
    },
    "kernelspec": {
      "name": "python3",
      "display_name": "Python 3"
    },
    "language_info": {
      "name": "python"
    }
  },
  "cells": [
    {
      "cell_type": "markdown",
      "source": [
        "# Using Callbacks to Control Training"
      ],
      "metadata": {
        "id": "yMhB4uk32CF7"
      }
    },
    {
      "cell_type": "markdown",
      "source": [
        "- We will use the Callbacks API to stop training when a specified metric is met.\n",
        "- 임계값에 도달하면 모든 epochs을 돌지 않아도 되는 유용한 기능임."
      ],
      "metadata": {
        "id": "oaXhRZ_52H7a"
      }
    },
    {
      "cell_type": "markdown",
      "source": [
        "# Load and Normalize the Fashion MNIST dataset"
      ],
      "metadata": {
        "id": "Kwbnqbu22r6w"
      }
    },
    {
      "cell_type": "code",
      "source": [
        "import tensorflow as tf\n",
        "\n",
        "# instantiate the dataset API\n",
        "fmnist = tf.keras.datasets.fashion_mnist\n",
        "\n",
        "# Load the dataset\n",
        "(x_train, y_train), (x_test, y_test) = fmnist.load_data()\n",
        "\n",
        "# Normalize the pixel values\n",
        "x_train, x_test = x_train / 255.0, x_test / 255.0"
      ],
      "metadata": {
        "colab": {
          "base_uri": "https://localhost:8080/"
        },
        "id": "pYwS8bMl2rfe",
        "outputId": "18240821-48bb-4e9b-c60c-79383270e586"
      },
      "execution_count": 1,
      "outputs": [
        {
          "output_type": "stream",
          "name": "stdout",
          "text": [
            "Downloading data from https://storage.googleapis.com/tensorflow/tf-keras-datasets/train-labels-idx1-ubyte.gz\n",
            "32768/29515 [=================================] - 0s 0us/step\n",
            "40960/29515 [=========================================] - 0s 0us/step\n",
            "Downloading data from https://storage.googleapis.com/tensorflow/tf-keras-datasets/train-images-idx3-ubyte.gz\n",
            "26427392/26421880 [==============================] - 0s 0us/step\n",
            "26435584/26421880 [==============================] - 0s 0us/step\n",
            "Downloading data from https://storage.googleapis.com/tensorflow/tf-keras-datasets/t10k-labels-idx1-ubyte.gz\n",
            "16384/5148 [===============================================================================================] - 0s 0us/step\n",
            "Downloading data from https://storage.googleapis.com/tensorflow/tf-keras-datasets/t10k-images-idx3-ubyte.gz\n",
            "4423680/4422102 [==============================] - 0s 0us/step\n",
            "4431872/4422102 [==============================] - 0s 0us/step\n"
          ]
        }
      ]
    },
    {
      "cell_type": "markdown",
      "source": [
        "# Creating a Callback class"
      ],
      "metadata": {
        "id": "DFjwgSP14Jpf"
      }
    },
    {
      "cell_type": "markdown",
      "source": [
        "- Create a callback by defining a class that inherits the `tf.keras.callbacks.Callback` back class.\n",
        "- 여기에서는 각각의 training epoch에서 정확도를 달성했는지 체크하기 위해 on_epoch_end()를 사용할 것이다."
      ],
      "metadata": {
        "id": "VHqgYKUf4L7P"
      }
    },
    {
      "cell_type": "code",
      "execution_count": 3,
      "metadata": {
        "id": "2C5e3xSL1-QA"
      },
      "outputs": [],
      "source": [
        "class myCallback(tf.keras.callbacks.Callback):\n",
        "  def on_epoch_end(self, epoch, logs={}):\n",
        "\n",
        "    # 정확도 달성했는지 체크\n",
        "    if (logs.get('accuracy')>0.6):\n",
        "\n",
        "      # Stop if threshold is met\n",
        "      print(\"\\nReached 60% accuracy so canceling training!\")\n",
        "      self.model.stop_training = True\n",
        "\n",
        "# instantiate class\n",
        "callbacks = myCallback()"
      ]
    },
    {
      "cell_type": "markdown",
      "source": [
        "# Define and compile the model"
      ],
      "metadata": {
        "id": "NYwgN4fV5Q6i"
      }
    },
    {
      "cell_type": "code",
      "source": [
        "# Define the model\n",
        "model = tf.keras.models.Sequential([\n",
        "                                    tf.keras.layers.Flatten(input_shape=(28, 28)),\n",
        "                                    tf.keras.layers.Dense(512, activation = tf.nn.relu),\n",
        "                                    tf.keras.layers.Dense(10, activation = tf.nn.softmax)                                   \n",
        "])\n",
        "\n",
        "# Compile the model\n",
        "model.compile(optimizer = tf.optimizers.Adam(),\n",
        "              loss = 'sparse_categorical_crossentropy',\n",
        "              metrics=['accuracy'])"
      ],
      "metadata": {
        "id": "ER6bvjqX4I4L"
      },
      "execution_count": 4,
      "outputs": []
    },
    {
      "cell_type": "markdown",
      "source": [
        "# Train the model\n",
        "- 10 에폭을 전부 돌지 않고, 정확도가 60%를 달성하면 멈춤"
      ],
      "metadata": {
        "id": "J3pVK6y_51qn"
      }
    },
    {
      "cell_type": "code",
      "source": [
        "# 각각의 call back 마다 callbacks function을 실행할 수 있음\n",
        "model.fit(x_train, y_train, epochs=10, callbacks=[callbacks])"
      ],
      "metadata": {
        "colab": {
          "base_uri": "https://localhost:8080/"
        },
        "id": "WjMXHuSU5zx9",
        "outputId": "55f9e2df-19b4-4636-d6fc-95e5cfb05024"
      },
      "execution_count": 5,
      "outputs": [
        {
          "output_type": "stream",
          "name": "stdout",
          "text": [
            "Epoch 1/10\n",
            "1868/1875 [============================>.] - ETA: 0s - loss: 0.4720 - accuracy: 0.8315\n",
            "Reached 60% accuracy so canceling training!\n",
            "1875/1875 [==============================] - 10s 5ms/step - loss: 0.4717 - accuracy: 0.8315\n"
          ]
        },
        {
          "output_type": "execute_result",
          "data": {
            "text/plain": [
              "<keras.callbacks.History at 0x7f0da6504150>"
            ]
          },
          "metadata": {},
          "execution_count": 5
        }
      ]
    }
  ]
}